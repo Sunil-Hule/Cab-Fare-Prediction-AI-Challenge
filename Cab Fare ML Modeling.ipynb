{
 "cells": [
  {
   "cell_type": "code",
   "execution_count": 22,
   "id": "a9d6517c",
   "metadata": {},
   "outputs": [],
   "source": [
    "import pandas as pd\n",
    "import numpy as np\n",
    "import os\n",
    "path = os.getcwd()\n",
    "\n",
    "import seaborn as sns\n",
    "import matplotlib.pyplot as plt\n",
    "\n",
    "\n",
    "from sklearn.linear_model import LinearRegression\n",
    "from sklearn.tree import DecisionTreeRegressor\n",
    "from sklearn.ensemble import RandomForestRegressor, GradientBoostingRegressor,BaggingRegressor, StackingRegressor\n",
    "from lightgbm import LGBMRegressor\n",
    "from xgboost import XGBRegressor\n",
    "from catboost import CatBoostRegressor\n",
    "from sklearn.model_selection import StratifiedKFold\n",
    "\n",
    "from sklearn.metrics import mean_squared_error, mean_absolute_error, mean_squared_log_error, r2_score"
   ]
  },
  {
   "cell_type": "code",
   "execution_count": 23,
   "id": "325f3855",
   "metadata": {},
   "outputs": [],
   "source": [
    "train = pd.read_csv(path + \"\\\\TRAIN.csv\")\n",
    "test = pd.read_csv(path + \"\\\\TEST.csv\")\n",
    "ss = pd.read_csv(path + \"\\\\sample_submission.csv\")"
   ]
  },
  {
   "cell_type": "code",
   "execution_count": 24,
   "id": "9e0aa8c8",
   "metadata": {},
   "outputs": [],
   "source": [
    "train.drop('index', inplace=True, axis = 1)\n",
    "test.drop('index', inplace=True, axis = 1)"
   ]
  },
  {
   "cell_type": "code",
   "execution_count": 25,
   "id": "18e7c3d4",
   "metadata": {},
   "outputs": [],
   "source": [
    "train['time_stamp'] = pd.to_datetime(train['time_stamp'], unit = 'ms')\n",
    "test['time_stamp'] = pd.to_datetime(test['time_stamp'], unit = 'ms')"
   ]
  },
  {
   "cell_type": "code",
   "execution_count": 26,
   "id": "bb5e287d",
   "metadata": {},
   "outputs": [],
   "source": [
    "# Cross Validation for Boosting\n",
    "def cross_val(regressor, train, test, features, name, splits):\n",
    "    N_splits = splits\n",
    "    \n",
    "    oofs = np.zeros(len(train))\n",
    "    preds = np.zeros(len(test))\n",
    "    \n",
    "    target_col = train[target]\n",
    "    \n",
    "    folds = StratifiedKFold(n_splits = N_splits, shuffle = True,random_state = 1999)\n",
    "    stratified_target = pd.qcut( train[target], 10, labels=False, duplicates='drop')\n",
    "    for index, (trn_idx, val_idx) in enumerate(folds.split(train, stratified_target)):\n",
    "        print(f'\\n================================Fold{index + 1}===================================')\n",
    "        \n",
    "        #### Train Set\n",
    "        X_trn, y_trn = train[features].iloc[trn_idx], train[target].iloc[trn_idx]\n",
    "        \n",
    "        #### Validation Set\n",
    "        X_val, y_val = train[features].iloc[val_idx], train[target].iloc[val_idx]\n",
    "        \n",
    "        #### Test Set\n",
    "        X_test = test[features]\n",
    "        \n",
    "        if name != 'cat':\n",
    "            #### Scaling Data ####\n",
    "            scaler = StandardScaler()\n",
    "            _ = scaler.fit(X_trn)\n",
    "            X_trn = scaler.transform(X_trn)\n",
    "            X_val = scaler.transform(X_val)\n",
    "            X_test = scaler.transform(X_test)\n",
    "        \n",
    "        ############ Fitting #############\n",
    "        _ = regressor.fit(X_trn, y_trn, eval_set = [(X_val, y_val)], early_stopping_rounds = 50, verbose = False)\n",
    "        \n",
    "        ############ Predicting #############\n",
    "        val_preds = np.abs(regressor.predict(X_val))\n",
    "        test_preds = np.abs(regressor.predict(X_test))\n",
    "        \n",
    "        error = np.sqrt(mean_squared_error(y_val, val_preds))\n",
    "        print(f'\\n Root Log Mean Squared Error for Validation set is : {error}')\n",
    "        \n",
    "        oofs[val_idx] = val_preds\n",
    "        preds += test_preds / N_splits\n",
    "        \n",
    "    total_error = np.sqrt(mean_squared_error(target_col, oofs))\n",
    "    print(f'\\n\\Root Log Mean Squared Error for oofs is {total_error}')\n",
    "    \n",
    "    return oofs, preds"
   ]
  },
  {
   "cell_type": "code",
   "execution_count": 27,
   "id": "bd527670",
   "metadata": {},
   "outputs": [],
   "source": [
    "# Cross Validation for Boosting\n",
    "def normal_cross_val(regressor, train, test, features, name, splits):\n",
    "    N_splits = splits\n",
    "    \n",
    "    oofs = np.zeros(len(train))\n",
    "    preds = np.zeros(len(test))\n",
    "    \n",
    "    target_col = train[target]\n",
    "    \n",
    "    folds = StratifiedKFold(n_splits = N_splits, shuffle = True,random_state = 1999)\n",
    "    stratified_target = pd.qcut( train[target], 10, labels=False, duplicates='drop')\n",
    "    ls_1 = [52,59,60,62,82,202,264,270,363,459,460,641,672,723,1057,1067,1068,1200,1243,1358,1448,1814,1852,1854,1954,2042,2197,2211,2212,2214,2292,2402,2452,2659,2745,2780,2875,2876,2877,3007,3115,3211,3399,3499,3576,3579,3581,3582,3719,3753,3778,3780,3879,3881,3882,3883,4224,4502,4677,4685,4700,4723,4730,4731,4814,4815,4886,4887,4912,4954,5094,5169,5175,5178,5179,5189,5209,5326,5359,5364,5546,5658,6105,6106,6107,6108,6271,6272,6378,6390,6540,6581,6772,7067,7069,7230,7231,7294,7306,7386,7388,7389,7521,7583,7781,7894,8002,8003,8005,8006,8177,8316,8453,8455,8529,8722,8739,9081,9086,9231,9845,9905,9906,9919,9947,10217,10708,11085,11105,11107,11236,11320,11404,11443,11444,11451,11723,11902,11990,11991,12194,12320,12344,12440,12483,12485,12486,12511,12618,12619,12621,12625,12793,12923,12932,12933,13293,13597,13650,13696,13701,13739,13758,13759,13813,14039,14221,14243,14378,14381,14383,14384,14426,14432,14646,14837,15072,15249,15417,15418,15419,15422,15423,15498,15500,15659,15663,15688,15723,15749,15840,15989,16087,16104,16344,16348,16366,16681,16689,16723,16726,16728,16885,17115,17128,17129,17231,17327,17485,17679,17683,17712,17863,17869,17870,17871,17885,17886,18275,18296,18298,18468,18576,18618,18619,18620,18622,18691,18800,18801,18838,18855,18925,18926,18939,18940,18942,18983,18986,19171,19334,19377,19445,19653,19654,19655,19795,19816,19817,19818,19919,19943,20004,20008,20147,20149,20150,20151,20152,20290,20354,20553,20568,20598,20626,20727,20731,20787,20958,20959,20961,20967,21145,21217,21463,21618,21900,22150,22200,22202,22300,22302,22319,22321,22322,22407,22424,22578,22582,23100,23111,23275,23276,23277,23307,23388,23389,23391,23392,23417,23431,23731,23732,23734,23749,23750,23811,23872,23876,24444,24499,24526,24732,24789,24830]\n",
    "    for index, (trn_idx, val_idx) in enumerate(folds.split(train, stratified_target)):\n",
    "        print(f'\\n================================================Fold{index + 1}================================================')\n",
    "        \n",
    "        #### Train Set\n",
    "        X_trn, y_trn = train[features].iloc[trn_idx], train[target].iloc[trn_idx]\n",
    "        \n",
    "        #### Validation Set\n",
    "        X_val, y_val = train[features].iloc[val_idx], train[target].iloc[val_idx]\n",
    "        \n",
    "        #### Test Set\n",
    "        X_test = test[features]\n",
    "        \n",
    "        if name != 'cat':\n",
    "            #### Scaling Data ####\n",
    "            scaler = StandardScaler()\n",
    "            _ = scaler.fit(X_trn)\n",
    "            X_trn = scaler.transform(X_trn)\n",
    "            X_val = scaler.transform(X_val)\n",
    "            X_test = scaler.transform(X_test)\n",
    "        \n",
    "        ############ Fitting #############\n",
    "        _ = regressor.fit(X_trn, y_trn)\n",
    "        \n",
    "        ############ Predicting #############\n",
    "        val_preds = np.abs(regressor.predict(X_val))\n",
    "        test_preds = np.abs(regressor.predict(X_test))\n",
    "        \n",
    "        error = np.sqrt(mean_squared_error(y_val, val_preds))\n",
    "        print(f'\\n Root Log Mean Squared Error for Validation set is : {error}')\n",
    "        \n",
    "        oofs[val_idx] = val_preds\n",
    "        preds += test_preds / N_splits\n",
    "    if name == 'lr':\n",
    "        preds.iloc[ls_1] = preds.iloc[ls_1]+5\n",
    "    total_error = np.sqrt(mean_squared_error(target_col, oofs))\n",
    "    print(f'\\n\\Root Log Mean Squared Error for oofs is {total_error}')\n",
    "    \n",
    "    return oofs, preds"
   ]
  },
  {
   "cell_type": "code",
   "execution_count": null,
   "id": "497200c1",
   "metadata": {},
   "outputs": [],
   "source": []
  },
  {
   "cell_type": "code",
   "execution_count": 28,
   "id": "deb0d75e",
   "metadata": {},
   "outputs": [],
   "source": [
    "# Test Index for Uber and lyft\n",
    "uber_index = test[test['cab_provider'] == 'Uber'].index\n",
    "lyft_index = test[test['cab_provider'] == 'Lyft'].index"
   ]
  },
  {
   "cell_type": "code",
   "execution_count": null,
   "id": "15495eb9",
   "metadata": {},
   "outputs": [],
   "source": []
  },
  {
   "cell_type": "code",
   "execution_count": 29,
   "id": "a3414842",
   "metadata": {},
   "outputs": [],
   "source": [
    "df = pd.concat([train, test], axis = 0).reset_index(drop=True)\n",
    "df['time_stamp'] = pd.to_datetime(df['time_stamp'], unit = 'ms')"
   ]
  },
  {
   "cell_type": "code",
   "execution_count": null,
   "id": "f096b3a5",
   "metadata": {},
   "outputs": [],
   "source": []
  },
  {
   "cell_type": "code",
   "execution_count": 30,
   "id": "84672bf2",
   "metadata": {},
   "outputs": [],
   "source": [
    "df['path'] = df.apply(lambda x: x['source'] + '_' + x['destination'], axis = 1)"
   ]
  },
  {
   "cell_type": "code",
   "execution_count": 31,
   "id": "b78767d4",
   "metadata": {},
   "outputs": [],
   "source": [
    "train['fare/dis'] = train['fare']/train['distance']\n",
    "\n",
    "per_km_cab_type = train.groupby(['source', 'destination', 'cab_type'])['fare/dis'].median().to_dict()\n",
    "train.drop('fare/dis', axis = 1, inplace=True)"
   ]
  },
  {
   "cell_type": "code",
   "execution_count": 32,
   "id": "3d044ba1",
   "metadata": {},
   "outputs": [],
   "source": [
    "df['multiplier'] = df.apply(lambda x: per_km_cab_type[(x['source'], x['destination'], x['cab_type'])], axis = 1)"
   ]
  },
  {
   "cell_type": "code",
   "execution_count": 33,
   "id": "493ecbee",
   "metadata": {},
   "outputs": [],
   "source": [
    "from sklearn.preprocessing import LabelEncoder, MinMaxScaler, StandardScaler\n",
    "le = LabelEncoder()\n",
    "sl = MinMaxScaler()"
   ]
  },
  {
   "cell_type": "code",
   "execution_count": 34,
   "id": "a42f02fa",
   "metadata": {},
   "outputs": [],
   "source": [
    "dict_ = {'Theatre District': 1, 'Fenway': 2, 'Beacon Hill': 3,\n",
    "        'North End': 4, 'Northeastern University': 5, 'Financial District': 6,\n",
    "        'Boston University': 7, 'Haymarket Square': 8, 'West End': 9,\n",
    "        'South Station': 10, 'North Station': 11, 'Back Bay': 12}\n",
    "\n",
    "df['source'] = df['source'].map(dict_)\n",
    "df['destination'] = df['destination'].map(dict_) "
   ]
  },
  {
   "cell_type": "code",
   "execution_count": 35,
   "id": "320f6176",
   "metadata": {},
   "outputs": [],
   "source": [
    "label_cols = ['cab_provider', 'cab_type','path']\n",
    "\n",
    "df[label_cols] = df[label_cols].apply(le.fit_transform)"
   ]
  },
  {
   "cell_type": "code",
   "execution_count": null,
   "id": "a56e90a3",
   "metadata": {},
   "outputs": [],
   "source": []
  },
  {
   "cell_type": "code",
   "execution_count": 36,
   "id": "38c5c8f7",
   "metadata": {},
   "outputs": [],
   "source": [
    "lyft_size = train[train['cab_provider'] == 'Lyft'].shape[0] # size of lyft in train\n",
    "\n",
    "df_lyft = df[df['cab_provider'] == 0].copy() # Lyft Dataset"
   ]
  },
  {
   "cell_type": "code",
   "execution_count": 37,
   "id": "79566cd8",
   "metadata": {},
   "outputs": [],
   "source": [
    "# Splitting Lyft into train and test\n",
    "train_lyft, test_lyft = df_lyft[:lyft_size], df_lyft[lyft_size:].reset_index(drop=True)"
   ]
  },
  {
   "cell_type": "code",
   "execution_count": 38,
   "id": "c838ffff",
   "metadata": {},
   "outputs": [],
   "source": [
    "target = 'fare'\n",
    "time = 'time_stamp'\n",
    "time_feats = ['hour', 'year', 'minute', 'day','dayofweek', 'month', 'weekday']\n",
    "provider = 'cab_provider'\n",
    "\n",
    "features = [col for col in df.columns if col not in [target, time, provider]]"
   ]
  },
  {
   "cell_type": "code",
   "execution_count": 39,
   "id": "534963b1",
   "metadata": {},
   "outputs": [],
   "source": [
    "params = {'n_estimators': 643, 'learning_rate': 0.3205115338225746, 'depth': 7, \n",
    "          'reg_lambda': 9.470288364364613, 'subsample': 0.7905189237698941}\n",
    "cat = CatBoostRegressor(random_state=1999,verbose=False , **params)\n",
    "\n",
    "\n",
    "params = {'n_estimators': 831, 'learning_rate': 0.09832522155935687, 'num_leaves': 152, 'max_depth': 7, 'reg_alpha': 5.284654787743608, \n",
    "          'reg_lambda': 0.10004930753366548, 'colsample_bytree': 0.9495225618757219}\n",
    "lgb = LGBMRegressor(random_state=1999, **params)\n",
    "\n",
    "params = {'alpha': 7, 'lambda': 3.004343629746868, 'n_estimators': 578, \n",
    "          'learning_rate': 0.14246637122353223, 'max_depth': 7, 'colsample_bytree': 0.7955419063856055}\n",
    "xgb = XGBRegressor(random_state=1999, **params)\n",
    "\n",
    "bag_cat = BaggingRegressor(base_estimator=cat, verbose=0)\n",
    "bag_lgb = BaggingRegressor(base_estimator=lgb, verbose=0)\n",
    "bag_xgb = BaggingRegressor(base_estimator=xgb, verbose=0)"
   ]
  },
  {
   "cell_type": "code",
   "execution_count": null,
   "id": "ff9baffb",
   "metadata": {},
   "outputs": [],
   "source": [
    "%%time\n",
    "cat_oofs, cat_preds = cross_val(cat, train_lyft, test_lyft, features, 'cat', 15)"
   ]
  },
  {
   "cell_type": "code",
   "execution_count": 40,
   "id": "8ccec8a6",
   "metadata": {},
   "outputs": [
    {
     "name": "stdout",
     "output_type": "stream",
     "text": [
      "\n",
      "================================Fold1===================================\n",
      "\n",
      " Root Log Mean Squared Error for Validation set is : 1.3331563018347368\n",
      "\n",
      "================================Fold2===================================\n",
      "\n",
      " Root Log Mean Squared Error for Validation set is : 1.3192832616400145\n",
      "\n",
      "================================Fold3===================================\n",
      "\n",
      " Root Log Mean Squared Error for Validation set is : 1.3531281254429068\n",
      "\n",
      "================================Fold4===================================\n",
      "\n",
      " Root Log Mean Squared Error for Validation set is : 1.3621997500311955\n",
      "\n",
      "================================Fold5===================================\n",
      "\n",
      " Root Log Mean Squared Error for Validation set is : 1.2723336631805902\n",
      "\n",
      "================================Fold6===================================\n",
      "\n",
      " Root Log Mean Squared Error for Validation set is : 1.3622639256988411\n",
      "\n",
      "================================Fold7===================================\n",
      "\n",
      " Root Log Mean Squared Error for Validation set is : 1.3837272643075582\n",
      "\n",
      "================================Fold8===================================\n",
      "\n",
      " Root Log Mean Squared Error for Validation set is : 1.3378145201110148\n",
      "\n",
      "================================Fold9===================================\n",
      "\n",
      " Root Log Mean Squared Error for Validation set is : 1.2945493042714686\n",
      "\n",
      "================================Fold10===================================\n",
      "\n",
      " Root Log Mean Squared Error for Validation set is : 1.3492709111195085\n",
      "\n",
      "================================Fold11===================================\n",
      "\n",
      " Root Log Mean Squared Error for Validation set is : 1.3239021941625835\n",
      "\n",
      "================================Fold12===================================\n",
      "\n",
      " Root Log Mean Squared Error for Validation set is : 1.3701376027414605\n",
      "\n",
      "================================Fold13===================================\n",
      "\n",
      " Root Log Mean Squared Error for Validation set is : 1.3123227280084435\n",
      "\n",
      "================================Fold14===================================\n",
      "\n",
      " Root Log Mean Squared Error for Validation set is : 1.322720022436387\n",
      "\n",
      "================================Fold15===================================\n",
      "\n",
      " Root Log Mean Squared Error for Validation set is : 1.352779933543486\n",
      "\n",
      "\\Root Log Mean Squared Error for oofs is 1.3369508006051656\n",
      "Wall time: 24.9 s\n"
     ]
    }
   ],
   "source": [
    "%%time\n",
    "lgb_oofs, lgb_preds = cross_val(lgb, train_lyft, test_lyft, features, 'lgb', 15)"
   ]
  },
  {
   "cell_type": "code",
   "execution_count": null,
   "id": "e7a97722",
   "metadata": {},
   "outputs": [],
   "source": [
    "%%time\n",
    "xgb_oofs, xgb_preds = cross_val(xgb, train_lyft, test_lyft, features, 'xgb', 15)"
   ]
  },
  {
   "cell_type": "code",
   "execution_count": null,
   "id": "35b25efe",
   "metadata": {},
   "outputs": [],
   "source": [
    "%%time\n",
    "bag_cat_oofs, bag_cat_preds= normal_cross_val(bag_cat, train_lyft, test_lyft, features, 'bag_cat', 15)"
   ]
  },
  {
   "cell_type": "code",
   "execution_count": null,
   "id": "86404266",
   "metadata": {},
   "outputs": [],
   "source": [
    "%%time\n",
    "bag_lgb_oofs, bag_lgb_preds = normal_cross_val(bag_lgb, train_lyft, test_lyft, features, 'bag_lgb', 15)"
   ]
  },
  {
   "cell_type": "code",
   "execution_count": null,
   "id": "3850a20d",
   "metadata": {},
   "outputs": [],
   "source": [
    "%%time\n",
    "bag_xgb_oofs, bag_xgb_preds = normal_cross_val(bag_xgb, train_lyft, test_lyft, features, 'bag_xgb', 15)"
   ]
  },
  {
   "cell_type": "code",
   "execution_count": 41,
   "id": "addea513",
   "metadata": {},
   "outputs": [],
   "source": [
    "train_new = train_lyft[[target, 'time_stamp']].copy()\n",
    "test_new = test_lyft[[target, 'time_stamp']].copy()\n",
    "\n",
    "train_new['lgb'] = lgb_oofs\n",
    "test_new['lgb'] = lgb_preds\n",
    "\n",
    "# train_new['cb'] = cat_oofs\n",
    "# test_new['cb'] = cat_preds\n",
    "\n",
    "# train_new['xgb'] = xgb_oofs\n",
    "# test_new['xgb'] = xgb_preds\n",
    "\n",
    "# train_new['bag_cat'] = bag_cat_oofs\n",
    "# test_new['bag_cat'] = bag_cat_preds\n",
    "\n",
    "# train_new['bag_lgb'] = bag_lgb_oofs\n",
    "# test_new['bag_lgb'] = bag_lgb_preds\n",
    "\n",
    "# train_new['bag_xgb'] = bag_xgb_oofs\n",
    "# test_new['bag_xgb'] = bag_xgb_preds\n",
    "\n",
    "ens_features = [c for c in train_new.columns if c not in [target, 'time_stamp']]"
   ]
  },
  {
   "cell_type": "code",
   "execution_count": 42,
   "id": "96d69ef5",
   "metadata": {},
   "outputs": [
    {
     "name": "stdout",
     "output_type": "stream",
     "text": [
      "\n",
      "================================================Fold1================================================\n",
      "\n",
      " Root Log Mean Squared Error for Validation set is : 1.3332919977259716\n",
      "\n",
      "================================================Fold2================================================\n",
      "\n",
      " Root Log Mean Squared Error for Validation set is : 1.3195359694576299\n",
      "\n",
      "================================================Fold3================================================\n",
      "\n",
      " Root Log Mean Squared Error for Validation set is : 1.3532582675095934\n",
      "\n",
      "================================================Fold4================================================\n",
      "\n",
      " Root Log Mean Squared Error for Validation set is : 1.3622209019150924\n",
      "\n",
      "================================================Fold5================================================\n",
      "\n",
      " Root Log Mean Squared Error for Validation set is : 1.2723261582776932\n",
      "\n",
      "================================================Fold6================================================\n",
      "\n",
      " Root Log Mean Squared Error for Validation set is : 1.3632679781935795\n",
      "\n",
      "================================================Fold7================================================\n",
      "\n",
      " Root Log Mean Squared Error for Validation set is : 1.3837183873622894\n",
      "\n",
      "================================================Fold8================================================\n",
      "\n",
      " Root Log Mean Squared Error for Validation set is : 1.337811798000872\n",
      "\n",
      "================================================Fold9================================================\n",
      "\n",
      " Root Log Mean Squared Error for Validation set is : 1.2946156573806522\n",
      "\n",
      "================================================Fold10================================================\n",
      "\n",
      " Root Log Mean Squared Error for Validation set is : 1.3492846953766546\n",
      "\n",
      "================================================Fold11================================================\n",
      "\n",
      " Root Log Mean Squared Error for Validation set is : 1.3243638772114337\n",
      "\n",
      "================================================Fold12================================================\n",
      "\n",
      " Root Log Mean Squared Error for Validation set is : 1.3702239400727814\n",
      "\n",
      "================================================Fold13================================================\n",
      "\n",
      " Root Log Mean Squared Error for Validation set is : 1.3123085269976753\n",
      "\n",
      "================================================Fold14================================================\n",
      "\n",
      " Root Log Mean Squared Error for Validation set is : 1.32271009978081\n",
      "\n",
      "================================================Fold15================================================\n",
      "\n",
      " Root Log Mean Squared Error for Validation set is : 1.3529418772358346\n",
      "\n",
      "\\Root Log Mean Squared Error for oofs is 1.3371045524989695\n"
     ]
    }
   ],
   "source": [
    "from sklearn.linear_model import Ridge\n",
    "\n",
    "from sklearn.linear_model import LinearRegression\n",
    "model = LinearRegression()\n",
    "\n",
    "ens_linear_oofs, ens_linear_preds = normal_cross_val(model, train_new, test_new, ens_features, 'cat', 15)"
   ]
  },
  {
   "cell_type": "code",
   "execution_count": null,
   "id": "c5907870",
   "metadata": {},
   "outputs": [],
   "source": [
    "test['Predictions'] = None\n",
    "test.loc[lyft_index, 'Predictions'] = ens_linear_preds"
   ]
  },
  {
   "cell_type": "code",
   "execution_count": null,
   "id": "f2e9aa70",
   "metadata": {},
   "outputs": [],
   "source": []
  },
  {
   "cell_type": "code",
   "execution_count": null,
   "id": "a5be0faa",
   "metadata": {},
   "outputs": [],
   "source": []
  },
  {
   "cell_type": "code",
   "execution_count": null,
   "id": "dd04b623",
   "metadata": {},
   "outputs": [],
   "source": [
    "uber_size = train[train['cab_provider'] == 'Uber'].shape[0]\n",
    "\n",
    "df_uber = df[df['cab_provider'] == 1].copy()"
   ]
  },
  {
   "cell_type": "code",
   "execution_count": null,
   "id": "a250c29a",
   "metadata": {},
   "outputs": [],
   "source": [
    "train_uber, test_uber = df_uber[:uber_size], df_uber[uber_size:].reset_index(drop=True)"
   ]
  },
  {
   "cell_type": "code",
   "execution_count": null,
   "id": "b464a1d2",
   "metadata": {},
   "outputs": [],
   "source": [
    "params = {'n_estimators': 916, 'learning_rate': 0.033403127409740704, 'depth': 7, \n",
    "          'reg_lambda': 2.4878801598813713, 'subsample': 0.6980227022422014}\n",
    "cat = CatBoostRegressor(random_state=1999,verbose=False, **params)\n",
    "\n",
    "\n",
    "params = {'n_estimators': 531, 'learning_rate': 0.020073364554055173, 'num_leaves': 909, 'max_depth': 7, 'reg_alpha': 8.791558407597256, \n",
    "          'reg_lambda': 2.87263268971904, 'colsample_bytree': 0.6660164022754701}\n",
    "lgb = LGBMRegressor(random_state=1999, **params)\n",
    "\n",
    "params = {'alpha': 3, 'lambda': 3.4282608213045944, 'n_estimators': 527, \n",
    "          'learning_rate': 0.021611335825661777, 'max_depth': 6, 'colsample_bytree': 0.8691510349197396}\n",
    "xgb = XGBRegressor(random_state=1999, **params)\n",
    "\n",
    "bag_cat = BaggingRegressor(base_estimator=cat, verbose=0)\n",
    "bag_lgb = BaggingRegressor(base_estimator=lgb, verbose=0)\n",
    "bag_xgb = BaggingRegressor(base_estimator=xgb, verbose=0)"
   ]
  },
  {
   "cell_type": "code",
   "execution_count": null,
   "id": "b5d0d06b",
   "metadata": {},
   "outputs": [],
   "source": [
    "%%time\n",
    "lgb_oofs, lgb_preds = cross_val(lgb, train_uber, test_uber, features, 'lgb', 10)"
   ]
  },
  {
   "cell_type": "code",
   "execution_count": null,
   "id": "bde2d9fc",
   "metadata": {},
   "outputs": [],
   "source": [
    "%%time\n",
    "cat_oofs, cat_preds = cross_val(cat, train_uber, test_uber, features, 'cat', 10)"
   ]
  },
  {
   "cell_type": "code",
   "execution_count": null,
   "id": "f58d61ac",
   "metadata": {},
   "outputs": [],
   "source": [
    "%%time\n",
    "xgb_oofs, xgb_preds = cross_val(xgb, train_uber, test_uber, features, 'xgb', 10)"
   ]
  },
  {
   "cell_type": "code",
   "execution_count": null,
   "id": "70cac9b5",
   "metadata": {},
   "outputs": [],
   "source": [
    "%%time\n",
    "bag_cat_oofs, bag_cat_preds = normal_cross_val(bag_cat, train_uber, test_uber, features, 'bag_cat', 10)"
   ]
  },
  {
   "cell_type": "code",
   "execution_count": null,
   "id": "30807080",
   "metadata": {},
   "outputs": [],
   "source": [
    "%%time\n",
    "bag_lgb_oofs, bag_lgb_preds = normal_cross_val(bag_lgb, train_uber, test_uber, features, 'bag_lgb', 10)"
   ]
  },
  {
   "cell_type": "code",
   "execution_count": null,
   "id": "ec7bc2df",
   "metadata": {},
   "outputs": [],
   "source": [
    "%%time\n",
    "bag_xgb_oofs, bag_xgb_preds = normal_cross_val(bag_xgb, train_uber, test_uber, features, 'bag_xgb', 10)"
   ]
  },
  {
   "cell_type": "code",
   "execution_count": null,
   "id": "80659022",
   "metadata": {},
   "outputs": [],
   "source": [
    "train_new = train_uber[[target, 'time_stamp']].copy()\n",
    "test_new = test_uber[[target, 'time_stamp']].copy()\n",
    "\n",
    "train_new['lgb'] = lgb_oofs\n",
    "test_new['lgb'] = lgb_preds\n",
    "\n",
    "train_new['cb'] = cat_oofs\n",
    "test_new['cb'] = cat_preds\n",
    "\n",
    "train_new['xgb'] = xgb_oofs\n",
    "test_new['xgb'] = xgb_preds\n",
    "\n",
    "train_new['bag_cat'] = bag_cat_oofs\n",
    "test_new['bag_cat'] = bag_cat_preds\n",
    "\n",
    "train_new['bag_lgb'] = bag_lgb_oofs\n",
    "test_new['bag_lgb'] = bag_lgb_preds\n",
    "\n",
    "train_new['bag_xgb'] = bag_xgb_oofs\n",
    "test_new['bag_xgb'] = bag_xgb_preds\n",
    "\n",
    "ens_features = [c for c in train_new.columns if c not in [target, 'time_stamp']]"
   ]
  },
  {
   "cell_type": "code",
   "execution_count": null,
   "id": "e60407d5",
   "metadata": {},
   "outputs": [],
   "source": [
    "model = LinearRegression()\n",
    "\n",
    "ens_linear_oofs, ens_linear_preds = normal_cross_val(model, train_new, test_new, ens_features, 'lr', 10)"
   ]
  },
  {
   "cell_type": "code",
   "execution_count": null,
   "id": "be23cc4e",
   "metadata": {},
   "outputs": [],
   "source": [
    "test.loc[uber_index, 'Predictions'] = ens_linear_preds"
   ]
  },
  {
   "cell_type": "code",
   "execution_count": null,
   "id": "e22d0347",
   "metadata": {},
   "outputs": [],
   "source": []
  },
  {
   "cell_type": "code",
   "execution_count": null,
   "id": "eed979a7",
   "metadata": {},
   "outputs": [],
   "source": []
  },
  {
   "cell_type": "code",
   "execution_count": 1,
   "id": "8f1f8327",
   "metadata": {},
   "outputs": [],
   "source": [
    "a=[[1,2],[1,2,3]]\n",
    "b=[[1,2]]\n"
   ]
  },
  {
   "cell_type": "code",
   "execution_count": 3,
   "id": "95efaeee",
   "metadata": {},
   "outputs": [
    {
     "name": "stderr",
     "output_type": "stream",
     "text": [
      "C:\\Users\\sunil\\anaconda3\\lib\\site-packages\\numpy\\core\\_asarray.py:171: VisibleDeprecationWarning: Creating an ndarray from ragged nested sequences (which is a list-or-tuple of lists-or-tuples-or ndarrays with different lengths or shapes) is deprecated. If you meant to do this, you must specify 'dtype=object' when creating the ndarray.\n",
      "  return array(a, dtype, copy=False, order=order, subok=True)\n"
     ]
    },
    {
     "data": {
      "text/plain": [
       "array([], dtype=int32)"
      ]
     },
     "execution_count": 3,
     "metadata": {},
     "output_type": "execute_result"
    }
   ],
   "source": [
    "import numpy as np\n",
    "\n"
   ]
  },
  {
   "cell_type": "code",
   "execution_count": 5,
   "id": "01e033d9",
   "metadata": {},
   "outputs": [
    {
     "data": {
      "text/plain": [
       "array([list([1, 2]), list([1, 2, 3])], dtype=object)"
      ]
     },
     "execution_count": 5,
     "metadata": {},
     "output_type": "execute_result"
    }
   ],
   "source": [
    "np.setdiff1d(a,b)"
   ]
  },
  {
   "cell_type": "code",
   "execution_count": 9,
   "id": "6d1db8f4",
   "metadata": {},
   "outputs": [
    {
     "data": {
      "text/plain": [
       "list"
      ]
     },
     "execution_count": 9,
     "metadata": {},
     "output_type": "execute_result"
    }
   ],
   "source": [
    "z=([1, 2])\n",
    "type(z)"
   ]
  },
  {
   "cell_type": "code",
   "execution_count": null,
   "id": "5cb09ce3",
   "metadata": {},
   "outputs": [],
   "source": []
  },
  {
   "cell_type": "code",
   "execution_count": null,
   "id": "e5263d94",
   "metadata": {},
   "outputs": [],
   "source": []
  },
  {
   "cell_type": "code",
   "execution_count": null,
   "id": "0e8b5747",
   "metadata": {},
   "outputs": [],
   "source": []
  },
  {
   "cell_type": "code",
   "execution_count": null,
   "id": "d029a99f",
   "metadata": {},
   "outputs": [],
   "source": []
  },
  {
   "cell_type": "code",
   "execution_count": null,
   "id": "6f550f6d",
   "metadata": {},
   "outputs": [],
   "source": []
  },
  {
   "cell_type": "code",
   "execution_count": null,
   "id": "42fdc993",
   "metadata": {},
   "outputs": [],
   "source": []
  },
  {
   "cell_type": "code",
   "execution_count": null,
   "id": "dce09b50",
   "metadata": {},
   "outputs": [],
   "source": []
  },
  {
   "cell_type": "code",
   "execution_count": null,
   "id": "c7b57002",
   "metadata": {},
   "outputs": [],
   "source": []
  },
  {
   "cell_type": "code",
   "execution_count": null,
   "id": "13304879",
   "metadata": {},
   "outputs": [],
   "source": []
  },
  {
   "cell_type": "code",
   "execution_count": null,
   "id": "e6b49f37",
   "metadata": {},
   "outputs": [],
   "source": []
  },
  {
   "cell_type": "code",
   "execution_count": null,
   "id": "5cbaffc3",
   "metadata": {},
   "outputs": [],
   "source": []
  },
  {
   "cell_type": "code",
   "execution_count": null,
   "id": "5b6616b2",
   "metadata": {},
   "outputs": [],
   "source": []
  },
  {
   "cell_type": "code",
   "execution_count": null,
   "id": "b7a04183",
   "metadata": {},
   "outputs": [],
   "source": []
  },
  {
   "cell_type": "code",
   "execution_count": null,
   "id": "2518cba7",
   "metadata": {},
   "outputs": [],
   "source": []
  },
  {
   "cell_type": "code",
   "execution_count": null,
   "id": "07a14ee8",
   "metadata": {},
   "outputs": [],
   "source": []
  },
  {
   "cell_type": "code",
   "execution_count": null,
   "id": "3f1827c9",
   "metadata": {},
   "outputs": [],
   "source": []
  },
  {
   "cell_type": "code",
   "execution_count": null,
   "id": "62ebfe78",
   "metadata": {},
   "outputs": [],
   "source": []
  },
  {
   "cell_type": "code",
   "execution_count": null,
   "id": "46659876",
   "metadata": {},
   "outputs": [],
   "source": []
  },
  {
   "cell_type": "code",
   "execution_count": null,
   "id": "8a2fc22d",
   "metadata": {},
   "outputs": [],
   "source": []
  },
  {
   "cell_type": "code",
   "execution_count": null,
   "id": "b4d696c1",
   "metadata": {},
   "outputs": [],
   "source": []
  }
 ],
 "metadata": {
  "kernelspec": {
   "display_name": "Python 3",
   "language": "python",
   "name": "python3"
  },
  "language_info": {
   "codemirror_mode": {
    "name": "ipython",
    "version": 3
   },
   "file_extension": ".py",
   "mimetype": "text/x-python",
   "name": "python",
   "nbconvert_exporter": "python",
   "pygments_lexer": "ipython3",
   "version": "3.8.8"
  }
 },
 "nbformat": 4,
 "nbformat_minor": 5
}
